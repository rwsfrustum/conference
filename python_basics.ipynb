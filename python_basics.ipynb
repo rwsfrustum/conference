{
  "nbformat": 4,
  "nbformat_minor": 0,
  "metadata": {
    "colab": {
      "provenance": [],
      "authorship_tag": "ABX9TyO6wDeCcNARoZSo7YcCRHpk",
      "include_colab_link": true
    },
    "kernelspec": {
      "name": "python3",
      "display_name": "Python 3"
    },
    "language_info": {
      "name": "python"
    }
  },
  "cells": [
    {
      "cell_type": "markdown",
      "metadata": {
        "id": "view-in-github",
        "colab_type": "text"
      },
      "source": [
        "<a href=\"https://colab.research.google.com/github/rwsfrustum/conference/blob/main/python_basics.ipynb\" target=\"_parent\"><img src=\"https://colab.research.google.com/assets/colab-badge.svg\" alt=\"Open In Colab\"/></a>"
      ]
    },
    {
      "cell_type": "code",
      "execution_count": null,
      "metadata": {
        "id": "wpylI9XDAcT6"
      },
      "outputs": [],
      "source": []
    },
    {
      "cell_type": "markdown",
      "source": [
        "Useful Types"
      ],
      "metadata": {
        "id": "qDTEpYcfAfit"
      }
    },
    {
      "cell_type": "markdown",
      "source": [
        "Integers, Floats, Strings"
      ],
      "metadata": {
        "id": "1HmDEc0_JQC5"
      }
    },
    {
      "cell_type": "code",
      "source": [
        "x = 25"
      ],
      "metadata": {
        "id": "s2LM5g8yIvPc"
      },
      "execution_count": 13,
      "outputs": []
    },
    {
      "cell_type": "code",
      "source": [
        "type(x)"
      ],
      "metadata": {
        "colab": {
          "base_uri": "https://localhost:8080/"
        },
        "id": "DgQViwXwIwIq",
        "outputId": "dd6f4b76-185c-4df4-91db-c6a016072aa2"
      },
      "execution_count": 14,
      "outputs": [
        {
          "output_type": "execute_result",
          "data": {
            "text/plain": [
              "int"
            ]
          },
          "metadata": {},
          "execution_count": 14
        }
      ]
    },
    {
      "cell_type": "code",
      "source": [
        "y = str(x)"
      ],
      "metadata": {
        "id": "ArrHoPFwIwms"
      },
      "execution_count": 15,
      "outputs": []
    },
    {
      "cell_type": "code",
      "source": [
        "y"
      ],
      "metadata": {
        "colab": {
          "base_uri": "https://localhost:8080/",
          "height": 35
        },
        "id": "dNAfe44LOSv3",
        "outputId": "bc84069f-74c4-4d7e-b38b-d3649ecc1f69"
      },
      "execution_count": 20,
      "outputs": [
        {
          "output_type": "execute_result",
          "data": {
            "text/plain": [
              "'25'"
            ],
            "application/vnd.google.colaboratory.intrinsic+json": {
              "type": "string"
            }
          },
          "metadata": {},
          "execution_count": 20
        }
      ]
    },
    {
      "cell_type": "code",
      "source": [
        "type(y)"
      ],
      "metadata": {
        "colab": {
          "base_uri": "https://localhost:8080/"
        },
        "id": "spKLw5pTIwr9",
        "outputId": "769cb3c8-ba0a-4bad-e318-f85156bd0baa"
      },
      "execution_count": 16,
      "outputs": [
        {
          "output_type": "execute_result",
          "data": {
            "text/plain": [
              "str"
            ]
          },
          "metadata": {},
          "execution_count": 16
        }
      ]
    },
    {
      "cell_type": "code",
      "source": [
        "z = float(y)"
      ],
      "metadata": {
        "id": "A-wh0dlFIwvt"
      },
      "execution_count": 17,
      "outputs": []
    },
    {
      "cell_type": "code",
      "source": [
        "z"
      ],
      "metadata": {
        "colab": {
          "base_uri": "https://localhost:8080/"
        },
        "id": "akX0jo_wOQ1-",
        "outputId": "c32495fa-8474-4219-9ab9-4902f565a924"
      },
      "execution_count": 19,
      "outputs": [
        {
          "output_type": "execute_result",
          "data": {
            "text/plain": [
              "25.0"
            ]
          },
          "metadata": {},
          "execution_count": 19
        }
      ]
    },
    {
      "cell_type": "code",
      "source": [
        "type(z)"
      ],
      "metadata": {
        "colab": {
          "base_uri": "https://localhost:8080/"
        },
        "id": "H_ftXNJ8Iw3_",
        "outputId": "87e1f7fd-c7ca-47ef-c61d-3871bced3b0e"
      },
      "execution_count": 18,
      "outputs": [
        {
          "output_type": "execute_result",
          "data": {
            "text/plain": [
              "float"
            ]
          },
          "metadata": {},
          "execution_count": 18
        }
      ]
    },
    {
      "cell_type": "code",
      "source": [
        "print(z)"
      ],
      "metadata": {
        "colab": {
          "base_uri": "https://localhost:8080/"
        },
        "id": "HV1_Z19eIw7q",
        "outputId": "920bc318-dbd9-42b0-cfb1-a0d780be4bbf"
      },
      "execution_count": 9,
      "outputs": [
        {
          "output_type": "stream",
          "name": "stdout",
          "text": [
            "4.2\n"
          ]
        }
      ]
    },
    {
      "cell_type": "code",
      "source": [
        "print(x, z)"
      ],
      "metadata": {
        "colab": {
          "base_uri": "https://localhost:8080/"
        },
        "id": "-WoUz9swIw_0",
        "outputId": "a823431f-4dc7-4fce-8177-16e322be73c2"
      },
      "execution_count": 10,
      "outputs": [
        {
          "output_type": "stream",
          "name": "stdout",
          "text": [
            "25 4.2\n"
          ]
        }
      ]
    },
    {
      "cell_type": "code",
      "source": [
        "print()"
      ],
      "metadata": {
        "id": "YBJrosYvIxDi"
      },
      "execution_count": null,
      "outputs": []
    },
    {
      "cell_type": "code",
      "source": [],
      "metadata": {
        "id": "71s4G0nwIxG4"
      },
      "execution_count": null,
      "outputs": []
    },
    {
      "cell_type": "code",
      "source": [],
      "metadata": {
        "id": "SriijZvBIxKk"
      },
      "execution_count": null,
      "outputs": []
    },
    {
      "cell_type": "code",
      "source": [],
      "metadata": {
        "id": "IO3TuuYbIxPB"
      },
      "execution_count": null,
      "outputs": []
    },
    {
      "cell_type": "code",
      "source": [],
      "metadata": {
        "id": "xLXp4j2VIxTK"
      },
      "execution_count": null,
      "outputs": []
    },
    {
      "cell_type": "markdown",
      "source": [
        "For Loops with SQL and String Interpolation"
      ],
      "metadata": {
        "id": "HDlorRCaAfqG"
      }
    },
    {
      "cell_type": "markdown",
      "source": [
        "Easy Lightweight Viz"
      ],
      "metadata": {
        "id": "DRGD7VSkBAJa"
      }
    },
    {
      "cell_type": "code",
      "source": [],
      "metadata": {
        "id": "WFUAJ5U7A6hE"
      },
      "execution_count": null,
      "outputs": []
    },
    {
      "cell_type": "markdown",
      "source": [
        "Sharing Workflows and Packages"
      ],
      "metadata": {
        "id": "qOWkJMP0Af0F"
      }
    },
    {
      "cell_type": "markdown",
      "source": [
        "Automate Excel, Applying Functions to Dataframes, Connecting to Databases"
      ],
      "metadata": {
        "id": "1eI4jAoDBPwv"
      }
    },
    {
      "cell_type": "code",
      "source": [],
      "metadata": {
        "id": "ijv1rsLIBO8T"
      },
      "execution_count": null,
      "outputs": []
    }
  ]
}